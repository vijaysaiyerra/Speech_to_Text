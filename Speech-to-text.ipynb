{
 "cells": [
  {
   "cell_type": "code",
   "execution_count": 1,
   "metadata": {},
   "outputs": [],
   "source": [
    "# pip install speechrecognition"
   ]
  },
  {
   "cell_type": "code",
   "execution_count": 2,
   "metadata": {},
   "outputs": [],
   "source": [
    "# pip install pyaudio"
   ]
  },
  {
   "cell_type": "code",
   "execution_count": 3,
   "metadata": {},
   "outputs": [],
   "source": [
    "import speech_recognition as SRG"
   ]
  },
  {
   "cell_type": "code",
   "execution_count": 6,
   "metadata": {},
   "outputs": [
    {
     "name": "stdout",
     "output_type": "stream",
     "text": [
      "Speek..\n",
      "Couldn't process the audio input.\n"
     ]
    }
   ],
   "source": [
    "store=SRG.Recognizer()\n",
    "with SRG.Microphone() as sr:\n",
    "    print(\"Speek..\")\n",
    "    \n",
    "    audio_input=store.record(sr,duration=3)\n",
    "    \n",
    "    \n",
    "    try:\n",
    "        text_output=store.recognize_google(audio_input)\n",
    "        print(\"Text converted from audio:\\n\")\n",
    "        print(text_output)\n",
    "        print(\"Finished..!\")\n",
    "        \n",
    "        \n",
    "    \n",
    "    except:\n",
    "        print(\"Couldn't process the audio input.\")"
   ]
  },
  {
   "cell_type": "code",
   "execution_count": null,
   "metadata": {},
   "outputs": [],
   "source": []
  }
 ],
 "metadata": {
  "kernelspec": {
   "display_name": "Python 3 (ipykernel)",
   "language": "python",
   "name": "python3"
  },
  "language_info": {
   "codemirror_mode": {
    "name": "ipython",
    "version": 3
   },
   "file_extension": ".py",
   "mimetype": "text/x-python",
   "name": "python",
   "nbconvert_exporter": "python",
   "pygments_lexer": "ipython3",
   "version": "3.10.9"
  }
 },
 "nbformat": 4,
 "nbformat_minor": 4
}
